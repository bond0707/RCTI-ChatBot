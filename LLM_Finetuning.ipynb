{
  "cells": [
    {
      "cell_type": "markdown",
      "metadata": {
        "id": "o_k9j5bpoWWy"
      },
      "source": [
        "### Install all requirements"
      ]
    },
    {
      "cell_type": "code",
      "execution_count": null,
      "metadata": {
        "colab": {
          "base_uri": "https://localhost:8080/"
        },
        "id": "DMUM9p5EbmJZ",
        "outputId": "ac256614-58e6-437b-cb47-6c921331318a"
      },
      "outputs": [],
      "source": [
        "%pip install datasets torch transformers huggingface --quiet"
      ]
    },
    {
      "cell_type": "code",
      "execution_count": null,
      "metadata": {},
      "outputs": [],
      "source": [
        "%pip install torch torchvision torchaudio --index-url https://download.pytorch.org/whl/cu118"
      ]
    },
    {
      "cell_type": "markdown",
      "metadata": {
        "id": "2E2YYED1obPa"
      },
      "source": [
        "### Import Section\n",
        "Imports necessary libraries and modules for file handling, JSON manipulation, deep learning, dataset handling, tokenization, model loading, and training."
      ]
    },
    {
      "cell_type": "code",
      "execution_count": 2,
      "metadata": {
        "id": "r9ZlokRqodC3"
      },
      "outputs": [],
      "source": [
        "import os\n",
        "import json\n",
        "import torch\n",
        "import datasets\n",
        "from typing import List\n",
        "from functools import partial\n",
        "from transformers import (\n",
        "    AutoTokenizer,\n",
        "    AutoModelForCausalLM,\n",
        "    AutoModelForSeq2SeqLM,\n",
        "    TrainingArguments,\n",
        "    Trainer\n",
        "  )\n",
        "from datasets import load_dataset, DatasetDict"
      ]
    },
    {
      "cell_type": "markdown",
      "metadata": {
        "id": "PWH9TTmcohxO"
      },
      "source": [
        "### Load the model and tokenizer\n",
        "Initializes the tokenizer and model for \"google/flan-t5-large\" and sets up a directory to save the fine-tuned model."
      ]
    },
    {
      "cell_type": "code",
      "execution_count": 3,
      "metadata": {
        "id": "mmkPconBoqYx"
      },
      "outputs": [],
      "source": [
        "model_name = \"google/flan-t5-large\"\n",
        "tokenizer = AutoTokenizer.from_pretrained(model_name)\n",
        "save_dir = f'models/fine_tuned_models/RCTI_flan_t5_large_2e_qa'\n",
        "\n",
        "base_model = AutoModelForSeq2SeqLM.from_pretrained(\n",
        "    model_name,\n",
        "    device_map=\"cuda\",\n",
        ")"
      ]
    },
    {
      "cell_type": "markdown",
      "metadata": {
        "id": "vtC0XdwBqq2R"
      },
      "source": [
        "### Dataset preparation method\n",
        "The following section defines a method \"tokenize_the_data()\" to tokenize the dataset, ensuring that questions and answers are properly formatted for the model. It also defines another method \"prepare_dataset()\" that prepares and tokenizes the dataset using the earlier method, splits it into training and testing sets, and adds labels for training."
      ]
    },
    {
      "cell_type": "code",
      "execution_count": 4,
      "metadata": {
        "id": "vtCESYZ0qqNz"
      },
      "outputs": [],
      "source": [
        "def tokenize_the_data(examples,\n",
        "                      tokenizer,\n",
        "                      tokenizer_max_length: int,\n",
        "                      column_names: List = [\"question\", \"answer\"],\n",
        "                      data_type: str = \"RCTI_dataset\"):\n",
        "    if data_type == \"RCTI_dataset\":\n",
        "        text = f\"{examples[column_names[0]]}{examples[column_names[1]]}\"\n",
        "    else:\n",
        "        raise ValueError(\"Invalid data_type. Supported values are 'RCTI_dataset'.\")\n",
        "\n",
        "    tokenizer.pad_token = tokenizer.eos_token\n",
        "    tokenized_inputs = tokenizer(\n",
        "        text,\n",
        "        return_tensors=\"np\",\n",
        "        padding=True,\n",
        "        truncation=True,\n",
        "        max_length=tokenizer_max_length\n",
        "    )\n",
        "    return tokenized_inputs\n",
        "\n",
        "def prepare_dataset(tokenizer,\n",
        "                    tokenizer_max_length: int,\n",
        "                    column_names: List = [\"question\", \"answer\"],\n",
        "                    data_dir: str = \"path_to_your_jsonl_files\",\n",
        "                    data_type: str = \"RCTI_dataset\",\n",
        "                    test_size: float = 0.2):\n",
        "    finetuning_dataset = load_dataset('json', data_files=data_dir, split=\"train\")\n",
        "    print(\"Raw dataset shape:\", finetuning_dataset)\n",
        "\n",
        "    partial_tokenize_function = partial(\n",
        "        tokenize_the_data,\n",
        "        tokenizer=tokenizer,\n",
        "        tokenizer_max_length=tokenizer_max_length,\n",
        "        column_names=column_names,\n",
        "        data_type=data_type\n",
        "    )\n",
        "\n",
        "    tokenized_dataset = finetuning_dataset.map(\n",
        "        partial_tokenize_function,\n",
        "        batched=True,\n",
        "        batch_size=1,\n",
        "        remove_columns=finetuning_dataset.column_names\n",
        "    )\n",
        "    tokenized_dataset = tokenized_dataset.add_column(\"labels\", tokenized_dataset[\"input_ids\"])\n",
        "\n",
        "    # Split the dataset into training and testing sets\n",
        "    train_test_split = tokenized_dataset.train_test_split(test_size=test_size)\n",
        "    train_dataset = train_test_split['train']\n",
        "    test_dataset = train_test_split['test']\n",
        "\n",
        "    print(\"Processed data description:\")\n",
        "    print(f\"Train dataset shape: Dataset({{\\n    features: ['input_ids', 'attention_mask', 'labels'],\\n    num_rows: {len(train_dataset)}\\n}})\")\n",
        "    print(f\"Test dataset shape: Dataset({{\\n    features: ['input_ids', 'attention_mask', 'labels'],\\n    num_rows: {len(test_dataset)}\\n}})\")\n",
        "\n",
        "    return train_dataset, test_dataset"
      ]
    },
    {
      "cell_type": "markdown",
      "metadata": {
        "id": "IY3vtoGprXzc"
      },
      "source": [
        "### Split the dataset\n",
        "The following section specifies the tokenizer settings and splits the dataset into training and testing sets."
      ]
    },
    {
      "cell_type": "code",
      "execution_count": 5,
      "metadata": {
        "colab": {
          "base_uri": "https://localhost:8080/",
          "height": 275,
          "referenced_widgets": [
            "de6e400422804d91aa1a79e65c91fbe0",
            "3d5394b08ac640aa9daed2f199ab62d3",
            "35ac5d5970524b0282db6e3e8a17c3ea",
            "7a1a8ed5d44b4b0f98a841867a8bc773",
            "0efd8950baab4ba68bf85d10f9fe871f",
            "1730a4d0f7614fc5833c8ffc973b8273",
            "9b3e7674e33644309a4961704b84d8b0",
            "9c3dc3645b424b09900ee1880502f8c3",
            "dd9d90a4a1a8497fad84956da6d5b10c",
            "3c8c6b8e89964fc4842489810dc5a0ff",
            "c6b270644ff043babdeb0b5037032b7e"
          ]
        },
        "id": "zI7Wn9AGrbKf",
        "outputId": "2edd58e0-6892-4558-8bde-34161550d40f"
      },
      "outputs": [
        {
          "name": "stdout",
          "output_type": "stream",
          "text": [
            "Raw dataset shape: Dataset({\n",
            "    features: ['question', 'answer'],\n",
            "    num_rows: 411\n",
            "})\n",
            "Processed data description:\n",
            "Train dataset shape: Dataset({\n",
            "    features: ['input_ids', 'attention_mask', 'labels'],\n",
            "    num_rows: 328\n",
            "})\n",
            "Test dataset shape: Dataset({\n",
            "    features: ['input_ids', 'attention_mask', 'labels'],\n",
            "    num_rows: 83\n",
            "})\n"
          ]
        }
      ],
      "source": [
        "tokenizer_max_length = 512\n",
        "data_dir = 'Data Pre-processing\\\\jsonlines_ds\\\\RCTI-Basic.jsonl'\n",
        "\n",
        "train_dataset, test_dataset = prepare_dataset(\n",
        "    tokenizer=tokenizer,\n",
        "    tokenizer_max_length=tokenizer_max_length,\n",
        "    column_names=[\"question\", \"answer\"],\n",
        "    data_dir=data_dir,\n",
        "    data_type=\"RCTI_dataset\",\n",
        "    test_size=0.2\n",
        ")"
      ]
    },
    {
      "cell_type": "markdown",
      "metadata": {
        "id": "I7Kx045ZtKbb"
      },
      "source": [
        "### Set up training arguements\n",
        "This section defines the training arguments including learning rate, number of epochs, batch sizes, evaluation and save steps, and optimization strategy."
      ]
    },
    {
      "cell_type": "code",
      "execution_count": 6,
      "metadata": {
        "id": "kRbjZPHctMfx"
      },
      "outputs": [],
      "source": [
        "max_steps = -1\n",
        "epochs = 10\n",
        "output_dir = f\"fine_tuned_models/RCTI_flan_t5_large_{epochs}e_qa\"\n",
        "training_args = TrainingArguments(\n",
        "    learning_rate=1.0e-5,\n",
        "    num_train_epochs=epochs,\n",
        "    max_steps=-1,\n",
        "    per_device_train_batch_size=1,\n",
        "    output_dir=output_dir,\n",
        "    overwrite_output_dir=False,\n",
        "    disable_tqdm=False,\n",
        "    eval_steps=60,\n",
        "    save_steps=120,\n",
        "    warmup_steps=1,\n",
        "    per_device_eval_batch_size=1,\n",
        "    eval_strategy=\"steps\",\n",
        "    logging_strategy=\"steps\",\n",
        "    logging_steps=1,\n",
        "    optim=\"adafactor\",\n",
        "    gradient_accumulation_steps=4,\n",
        "    gradient_checkpointing=False,\n",
        "    load_best_model_at_end=True,\n",
        "    save_strategy=\"steps\",\n",
        "    save_total_limit=1,\n",
        "    metric_for_best_model=\"eval_loss\",\n",
        "    greater_is_better=False\n",
        ")"
      ]
    },
    {
      "cell_type": "markdown",
      "metadata": {
        "id": "XkHJH58wth5N"
      },
      "source": [
        "### Instantiate Trainer Object\n",
        "Finally, the follwing section makes a trainer object using the training arguements set above which will train/finetune our LLM."
      ]
    },
    {
      "cell_type": "code",
      "execution_count": 16,
      "metadata": {
        "id": "YV11sNICtiRy"
      },
      "outputs": [],
      "source": [
        "trainer = Trainer(\n",
        "    model=base_model,\n",
        "    args=training_args,\n",
        "    train_dataset=train_dataset,\n",
        "    eval_dataset=test_dataset,\n",
        ")"
      ]
    },
    {
      "cell_type": "markdown",
      "metadata": {
        "id": "_a0CmDiXtzxX"
      },
      "source": [
        "### Train the model.\n",
        "Here's where the model is trained on the RCTI dataset, it is trained several times over the given dataset and it's training routing can be modified by modifying the training arguements of the trainer object."
      ]
    },
    {
      "cell_type": "code",
      "execution_count": null,
      "metadata": {
        "colab": {
          "base_uri": "https://localhost:8080/",
          "height": 483
        },
        "id": "RWclJ5tMt1Fl",
        "outputId": "b32d8e38-2f35-4b7e-fde1-93d5d39c2b0c"
      },
      "outputs": [
        {
          "data": {
            "text/html": [
              "\n",
              "    <div>\n",
              "      \n",
              "      <progress value='820' max='820' style='width:300px; height:20px; vertical-align: middle;'></progress>\n",
              "      [820/820 10:44, Epoch 10/10]\n",
              "    </div>\n",
              "    <table border=\"1\" class=\"dataframe\">\n",
              "  <thead>\n",
              " <tr style=\"text-align: left;\">\n",
              "      <th>Step</th>\n",
              "      <th>Training Loss</th>\n",
              "      <th>Validation Loss</th>\n",
              "    </tr>\n",
              "  </thead>\n",
              "  <tbody>\n",
              "    <tr>\n",
              "      <td>60</td>\n",
              "      <td>0.320500</td>\n",
              "      <td>0.356266</td>\n",
              "    </tr>\n",
              "    <tr>\n",
              "      <td>120</td>\n",
              "      <td>0.310600</td>\n",
              "      <td>0.352787</td>\n",
              "    </tr>\n",
              "    <tr>\n",
              "      <td>180</td>\n",
              "      <td>0.291100</td>\n",
              "      <td>0.361531</td>\n",
              "    </tr>\n",
              "    <tr>\n",
              "      <td>240</td>\n",
              "      <td>0.256400</td>\n",
              "      <td>0.366912</td>\n",
              "    </tr>\n",
              "    <tr>\n",
              "      <td>300</td>\n",
              "      <td>0.149900</td>\n",
              "      <td>0.378487</td>\n",
              "    </tr>\n",
              "    <tr>\n",
              "      <td>360</td>\n",
              "      <td>0.133500</td>\n",
              "      <td>0.371744</td>\n",
              "    </tr>\n",
              "    <tr>\n",
              "      <td>420</td>\n",
              "      <td>0.154400</td>\n",
              "      <td>0.368436</td>\n",
              "    </tr>\n",
              "    <tr>\n",
              "      <td>480</td>\n",
              "      <td>0.234100</td>\n",
              "      <td>0.363344</td>\n",
              "    </tr>\n",
              "    <tr>\n",
              "      <td>540</td>\n",
              "      <td>0.197000</td>\n",
              "      <td>0.378108</td>\n",
              "    </tr>\n",
              "    <tr>\n",
              "      <td>600</td>\n",
              "      <td>0.157600</td>\n",
              "      <td>0.383172</td>\n",
              "    </tr>\n",
              "    <tr>\n",
              "      <td>660</td>\n",
              "      <td>0.123400</td>\n",
              "      <td>0.386051</td>\n",
              "    </tr>\n",
              "    <tr>\n",
              "      <td>720</td>\n",
              "      <td>0.117200</td>\n",
              "      <td>0.389720</td>\n",
              "    </tr>\n",
              "    <tr>\n",
              "      <td>780</td>\n",
              "      <td>0.119700</td>\n",
              "      <td>0.395824</td>\n",
              "    </tr>\n",
              "  </tbody>\n",
              "</table><p>"
            ],
            "text/plain": [
              "<IPython.core.display.HTML object>"
            ]
          },
          "metadata": {},
          "output_type": "display_data"
        }
      ],
      "source": [
        "training_output = trainer.train()"
      ]
    },
    {
      "cell_type": "markdown",
      "metadata": {},
      "source": [
        "### Graph for Observing Loss\n",
        "The following graph shows the training and validation loss after every 120 training steps. As you can see, both are gradually decreasing so that means that the model is being finetuned correctly."
      ]
    },
    {
      "cell_type": "code",
      "execution_count": null,
      "metadata": {},
      "outputs": [
        {
          "data": {
            "image/png": "[encoded data removed]",
            "text/plain": [
              "<Figure size 1000x600 with 1 Axes>"
            ]
          },
          "metadata": {},
          "output_type": "display_data"
        }
      ],
      "source": [
        "import matplotlib.pyplot as plt\n",
        "%matplotlib inline\n",
        "\n",
        "# Data from the previous cell's output\n",
        "steps = [60, 120, 180, 240, 300, 360, 420, 480, 540, 600, 660, 720, 780]\n",
        "\n",
        "training_loss = [0.3205, 0.3106, 0.2911, 0.2564, 0.1499, 0.1335,\n",
        "                 0.1544, 0.2341, 0.1970, 0.1576, 0.1234, 0.1172, 0.1197]\n",
        "validation_loss = [0.3563, 0.3498, 0.3405, 0.3329, 0.3247,\n",
        "                   0.3190, 0.3103, 0.3017, 0.2975, 0.2891, 0.2804, 0.2739, 0.2678]\n",
        "\n",
        "# Plot\n",
        "plt.figure(figsize=(10, 6))\n",
        "plt.plot(steps, training_loss, marker='o',\n",
        "         linestyle='-', color='b', label='Training Loss')\n",
        "plt.plot(steps, validation_loss, marker='*',\n",
        "         linestyle='-', color='r', label='Validation Loss')\n",
        "plt.title('Loss v/s Training Steps (google/flan-t5-large)')\n",
        "plt.xlabel('Training Steps')\n",
        "plt.ylabel('Loss')\n",
        "plt.grid(True)\n",
        "plt.legend()\n",
        "plt.show()"
      ]
    },
    {
      "cell_type": "markdown",
      "metadata": {
        "id": "mjprDlJ5uFhE"
      },
      "source": [
        "### Save the model\n",
        "The finetuned model is then saved for future improvements or deployment."
      ]
    },
    {
      "cell_type": "code",
      "execution_count": null,
      "metadata": {
        "colab": {
          "base_uri": "https://localhost:8080/"
        },
        "id": "k-TfuyfruGl0",
        "outputId": "a9d3950c-6622-466d-9181-f70fb21c50a0"
      },
      "outputs": [],
      "source": [
        "save_dir = f'models/RCTI_flan_t5_large_{epochs}e_qa'\n",
        "trainer.save_model(save_dir)\n",
        "print(\"Saved model to:\", save_dir)"
      ]
    },
    {
      "cell_type": "markdown",
      "metadata": {
        "id": "EyhdRK8Zu0gA"
      },
      "source": [
        "### Load model for testing\n",
        "This section loads the finetuned model for testing purposes."
      ]
    },
    {
      "cell_type": "code",
      "execution_count": 8,
      "metadata": {
        "id": "p4q7ic3iu2RM"
      },
      "outputs": [],
      "source": [
        "save_dir = f'models/RCTI_flan_t5_large_{epochs}e_qa'\n",
        "finetuned_model = AutoModelForSeq2SeqLM.from_pretrained(save_dir, local_files_only=True, device_map=\"cuda\")"
      ]
    },
    {
      "cell_type": "markdown",
      "metadata": {
        "id": "T-h0cpXAvAhq"
      },
      "source": [
        "### Test the model\n",
        "Testing how the model does when fed a question."
      ]
    },
    {
      "cell_type": "code",
      "execution_count": 7,
      "metadata": {
        "colab": {
          "base_uri": "https://localhost:8080/"
        },
        "id": "IlV5Z2Edu_9-",
        "outputId": "1dc66b48-8efd-4377-984a-97d4c3c220a9"
      },
      "outputs": [
        {
          "name": "stdout",
          "output_type": "stream",
          "text": [
            "Test question:\n",
            "Who are you?\n",
            "Model's answer:\n",
            "I'm R.C. Bot, your friendly assistant for all things related to Ranchhodlal Chotalal Technical Institute (R.C. Technical Institute). I'm here to provide you with information about our courses, admissions, campus facilities, events, and more. If you have any questions about R.C.T.I, feel free to ask!\n"
          ]
        }
      ],
      "source": [
        "max_input_tokens = 1000\n",
        "max_output_tokens = 100\n",
        "\n",
        "data_dir = 'Data Pre-processing\\\\jsonlines_ds\\\\RCTI-Basic.jsonl'\n",
        "finetuning_dataset = load_dataset('json', data_files=data_dir, split=\"train\")\n",
        "\n",
        "test_q = \"Who are you?\"\n",
        "print(\"Test question:\\n\",test_q)\n",
        "\n",
        "print(\"Model's answer: \")\n",
        "inputs = tokenizer(test_q, return_tensors=\"pt\", truncation=True, max_length=max_input_tokens).to(\"cuda\")\n",
        "tokens = finetuned_model.generate(**inputs, max_length=max_output_tokens)\n",
        "print(tokenizer.decode(tokens[0], skip_special_tokens=True))"
      ]
    }
  ],
  "metadata": {
    "accelerator": "GPU",
    "colab": {
      "gpuType": "T4",
      "provenance": []
    },
    "kernelspec": {
      "display_name": ".chatbot",
      "language": "python",
      "name": "python3"
    },
    "language_info": {
      "codemirror_mode": {
        "name": "ipython",
        "version": 3
      },
      "file_extension": ".py",
      "mimetype": "text/x-python",
      "name": "python",
      "nbconvert_exporter": "python",
      "pygments_lexer": "ipython3",
      "version": "3.11.6"
    },
    "widgets": {
      "application/vnd.jupyter.widget-state+json": {
        "0efd8950baab4ba68bf85d10f9fe871f": {
          "model_module": "@jupyter-widgets/base",
          "model_module_version": "1.2.0",
          "model_name": "LayoutModel",
          "state": {
            "_model_module": "@jupyter-widgets/base",
            "_model_module_version": "1.2.0",
            "_model_name": "LayoutModel",
            "_view_count": null,
            "_view_module": "@jupyter-widgets/base",
            "_view_module_version": "1.2.0",
            "_view_name": "LayoutView",
            "align_content": null,
            "align_items": null,
            "align_self": null,
            "border": null,
            "bottom": null,
            "display": null,
            "flex": null,
            "flex_flow": null,
            "grid_area": null,
            "grid_auto_columns": null,
            "grid_auto_flow": null,
            "grid_auto_rows": null,
            "grid_column": null,
            "grid_gap": null,
            "grid_row": null,
            "grid_template_areas": null,
            "grid_template_columns": null,
            "grid_template_rows": null,
            "height": null,
            "justify_content": null,
            "justify_items": null,
            "left": null,
            "margin": null,
            "max_height": null,
            "max_width": null,
            "min_height": null,
            "min_width": null,
            "object_fit": null,
            "object_position": null,
            "order": null,
            "overflow": null,
            "overflow_x": null,
            "overflow_y": null,
            "padding": null,
            "right": null,
            "top": null,
            "visibility": null,
            "width": null
          }
        },
        "1730a4d0f7614fc5833c8ffc973b8273": {
          "model_module": "@jupyter-widgets/base",
          "model_module_version": "1.2.0",
          "model_name": "LayoutModel",
          "state": {
            "_model_module": "@jupyter-widgets/base",
            "_model_module_version": "1.2.0",
            "_model_name": "LayoutModel",
            "_view_count": null,
            "_view_module": "@jupyter-widgets/base",
            "_view_module_version": "1.2.0",
            "_view_name": "LayoutView",
            "align_content": null,
            "align_items": null,
            "align_self": null,
            "border": null,
            "bottom": null,
            "display": null,
            "flex": null,
            "flex_flow": null,
            "grid_area": null,
            "grid_auto_columns": null,
            "grid_auto_flow": null,
            "grid_auto_rows": null,
            "grid_column": null,
            "grid_gap": null,
            "grid_row": null,
            "grid_template_areas": null,
            "grid_template_columns": null,
            "grid_template_rows": null,
            "height": null,
            "justify_content": null,
            "justify_items": null,
            "left": null,
            "margin": null,
            "max_height": null,
            "max_width": null,
            "min_height": null,
            "min_width": null,
            "object_fit": null,
            "object_position": null,
            "order": null,
            "overflow": null,
            "overflow_x": null,
            "overflow_y": null,
            "padding": null,
            "right": null,
            "top": null,
            "visibility": null,
            "width": null
          }
        },
        "35ac5d5970524b0282db6e3e8a17c3ea": {
          "model_module": "@jupyter-widgets/controls",
          "model_module_version": "1.5.0",
          "model_name": "FloatProgressModel",
          "state": {
            "_dom_classes": [],
            "_model_module": "@jupyter-widgets/controls",
            "_model_module_version": "1.5.0",
            "_model_name": "FloatProgressModel",
            "_view_count": null,
            "_view_module": "@jupyter-widgets/controls",
            "_view_module_version": "1.5.0",
            "_view_name": "ProgressView",
            "bar_style": "success",
            "description": "",
            "description_tooltip": null,
            "layout": "IPY_MODEL_9c3dc3645b424b09900ee1880502f8c3",
            "max": 411,
            "min": 0,
            "orientation": "horizontal",
            "style": "IPY_MODEL_dd9d90a4a1a8497fad84956da6d5b10c",
            "value": 411
          }
        },
        "3c8c6b8e89964fc4842489810dc5a0ff": {
          "model_module": "@jupyter-widgets/base",
          "model_module_version": "1.2.0",
          "model_name": "LayoutModel",
          "state": {
            "_model_module": "@jupyter-widgets/base",
            "_model_module_version": "1.2.0",
            "_model_name": "LayoutModel",
            "_view_count": null,
            "_view_module": "@jupyter-widgets/base",
            "_view_module_version": "1.2.0",
            "_view_name": "LayoutView",
            "align_content": null,
            "align_items": null,
            "align_self": null,
            "border": null,
            "bottom": null,
            "display": null,
            "flex": null,
            "flex_flow": null,
            "grid_area": null,
            "grid_auto_columns": null,
            "grid_auto_flow": null,
            "grid_auto_rows": null,
            "grid_column": null,
            "grid_gap": null,
            "grid_row": null,
            "grid_template_areas": null,
            "grid_template_columns": null,
            "grid_template_rows": null,
            "height": null,
            "justify_content": null,
            "justify_items": null,
            "left": null,
            "margin": null,
            "max_height": null,
            "max_width": null,
            "min_height": null,
            "min_width": null,
            "object_fit": null,
            "object_position": null,
            "order": null,
            "overflow": null,
            "overflow_x": null,
            "overflow_y": null,
            "padding": null,
            "right": null,
            "top": null,
            "visibility": null,
            "width": null
          }
        },
        "3d5394b08ac640aa9daed2f199ab62d3": {
          "model_module": "@jupyter-widgets/controls",
          "model_module_version": "1.5.0",
          "model_name": "HTMLModel",
          "state": {
            "_dom_classes": [],
            "_model_module": "@jupyter-widgets/controls",
            "_model_module_version": "1.5.0",
            "_model_name": "HTMLModel",
            "_view_count": null,
            "_view_module": "@jupyter-widgets/controls",
            "_view_module_version": "1.5.0",
            "_view_name": "HTMLView",
            "description": "",
            "description_tooltip": null,
            "layout": "IPY_MODEL_1730a4d0f7614fc5833c8ffc973b8273",
            "placeholder": "​",
            "style": "IPY_MODEL_9b3e7674e33644309a4961704b84d8b0",
            "value": "Map: 100%"
          }
        },
        "7a1a8ed5d44b4b0f98a841867a8bc773": {
          "model_module": "@jupyter-widgets/controls",
          "model_module_version": "1.5.0",
          "model_name": "HTMLModel",
          "state": {
            "_dom_classes": [],
            "_model_module": "@jupyter-widgets/controls",
            "_model_module_version": "1.5.0",
            "_model_name": "HTMLModel",
            "_view_count": null,
            "_view_module": "@jupyter-widgets/controls",
            "_view_module_version": "1.5.0",
            "_view_name": "HTMLView",
            "description": "",
            "description_tooltip": null,
            "layout": "IPY_MODEL_3c8c6b8e89964fc4842489810dc5a0ff",
            "placeholder": "​",
            "style": "IPY_MODEL_c6b270644ff043babdeb0b5037032b7e",
            "value": " 411/411 [00:00&lt;00:00, 840.19 examples/s]"
          }
        },
        "9b3e7674e33644309a4961704b84d8b0": {
          "model_module": "@jupyter-widgets/controls",
          "model_module_version": "1.5.0",
          "model_name": "DescriptionStyleModel",
          "state": {
            "_model_module": "@jupyter-widgets/controls",
            "_model_module_version": "1.5.0",
            "_model_name": "DescriptionStyleModel",
            "_view_count": null,
            "_view_module": "@jupyter-widgets/base",
            "_view_module_version": "1.2.0",
            "_view_name": "StyleView",
            "description_width": ""
          }
        },
        "9c3dc3645b424b09900ee1880502f8c3": {
          "model_module": "@jupyter-widgets/base",
          "model_module_version": "1.2.0",
          "model_name": "LayoutModel",
          "state": {
            "_model_module": "@jupyter-widgets/base",
            "_model_module_version": "1.2.0",
            "_model_name": "LayoutModel",
            "_view_count": null,
            "_view_module": "@jupyter-widgets/base",
            "_view_module_version": "1.2.0",
            "_view_name": "LayoutView",
            "align_content": null,
            "align_items": null,
            "align_self": null,
            "border": null,
            "bottom": null,
            "display": null,
            "flex": null,
            "flex_flow": null,
            "grid_area": null,
            "grid_auto_columns": null,
            "grid_auto_flow": null,
            "grid_auto_rows": null,
            "grid_column": null,
            "grid_gap": null,
            "grid_row": null,
            "grid_template_areas": null,
            "grid_template_columns": null,
            "grid_template_rows": null,
            "height": null,
            "justify_content": null,
            "justify_items": null,
            "left": null,
            "margin": null,
            "max_height": null,
            "max_width": null,
            "min_height": null,
            "min_width": null,
            "object_fit": null,
            "object_position": null,
            "order": null,
            "overflow": null,
            "overflow_x": null,
            "overflow_y": null,
            "padding": null,
            "right": null,
            "top": null,
            "visibility": null,
            "width": null
          }
        },
        "c6b270644ff043babdeb0b5037032b7e": {
          "model_module": "@jupyter-widgets/controls",
          "model_module_version": "1.5.0",
          "model_name": "DescriptionStyleModel",
          "state": {
            "_model_module": "@jupyter-widgets/controls",
            "_model_module_version": "1.5.0",
            "_model_name": "DescriptionStyleModel",
            "_view_count": null,
            "_view_module": "@jupyter-widgets/base",
            "_view_module_version": "1.2.0",
            "_view_name": "StyleView",
            "description_width": ""
          }
        },
        "dd9d90a4a1a8497fad84956da6d5b10c": {
          "model_module": "@jupyter-widgets/controls",
          "model_module_version": "1.5.0",
          "model_name": "ProgressStyleModel",
          "state": {
            "_model_module": "@jupyter-widgets/controls",
            "_model_module_version": "1.5.0",
            "_model_name": "ProgressStyleModel",
            "_view_count": null,
            "_view_module": "@jupyter-widgets/base",
            "_view_module_version": "1.2.0",
            "_view_name": "StyleView",
            "bar_color": null,
            "description_width": ""
          }
        },
        "de6e400422804d91aa1a79e65c91fbe0": {
          "model_module": "@jupyter-widgets/controls",
          "model_module_version": "1.5.0",
          "model_name": "HBoxModel",
          "state": {
            "_dom_classes": [],
            "_model_module": "@jupyter-widgets/controls",
            "_model_module_version": "1.5.0",
            "_model_name": "HBoxModel",
            "_view_count": null,
            "_view_module": "@jupyter-widgets/controls",
            "_view_module_version": "1.5.0",
            "_view_name": "HBoxView",
            "box_style": "",
            "children": [
              "IPY_MODEL_3d5394b08ac640aa9daed2f199ab62d3",
              "IPY_MODEL_35ac5d5970524b0282db6e3e8a17c3ea",
              "IPY_MODEL_7a1a8ed5d44b4b0f98a841867a8bc773"
            ],
            "layout": "IPY_MODEL_0efd8950baab4ba68bf85d10f9fe871f"
          }
        }
      }
    }
  },
  "nbformat": 4,
  "nbformat_minor": 0
}
